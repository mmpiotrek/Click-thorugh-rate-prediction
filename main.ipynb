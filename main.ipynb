{
 "cells": [
  {
   "cell_type": "code",
   "execution_count": 1,
   "metadata": {},
   "outputs": [],
   "source": [
    "import pandas as pd"
   ]
  },
  {
   "cell_type": "code",
   "execution_count": 13,
   "metadata": {},
   "outputs": [],
   "source": [
    "def load_data(nrows=100_000):\n",
    "    chunksize = 10 ** 6\n",
    "    filename='train.csv'\n",
    "    chunks = []\n",
    "    with pd.read_csv(filename, chunksize=chunksize, nrows=nrows) as reader:\n",
    "        for chunk in reader:\n",
    "            chunks.append(chunk)\n",
    "    data = pd.concat(chunks)\n",
    "\n",
    "    return data"
   ]
  },
  {
   "cell_type": "code",
   "execution_count": 14,
   "metadata": {},
   "outputs": [],
   "source": [
    "nrows_data = 300_000\n",
    "data = load_data(nrows=nrows_data)"
   ]
  },
  {
   "cell_type": "code",
   "execution_count": 15,
   "metadata": {},
   "outputs": [
    {
     "name": "stdout",
     "output_type": "stream",
     "text": [
      "<class 'pandas.core.frame.DataFrame'>\n",
      "RangeIndex: 300000 entries, 0 to 299999\n",
      "Data columns (total 24 columns):\n",
      " #   Column            Non-Null Count   Dtype  \n",
      "---  ------            --------------   -----  \n",
      " 0   id                300000 non-null  float64\n",
      " 1   click             300000 non-null  int64  \n",
      " 2   hour              300000 non-null  int64  \n",
      " 3   C1                300000 non-null  int64  \n",
      " 4   banner_pos        300000 non-null  int64  \n",
      " 5   site_id           300000 non-null  object \n",
      " 6   site_domain       300000 non-null  object \n",
      " 7   site_category     300000 non-null  object \n",
      " 8   app_id            300000 non-null  object \n",
      " 9   app_domain        300000 non-null  object \n",
      " 10  app_category      300000 non-null  object \n",
      " 11  device_id         300000 non-null  object \n",
      " 12  device_ip         300000 non-null  object \n",
      " 13  device_model      300000 non-null  object \n",
      " 14  device_type       300000 non-null  int64  \n",
      " 15  device_conn_type  300000 non-null  int64  \n",
      " 16  C14               300000 non-null  int64  \n",
      " 17  C15               300000 non-null  int64  \n",
      " 18  C16               300000 non-null  int64  \n",
      " 19  C17               300000 non-null  int64  \n",
      " 20  C18               300000 non-null  int64  \n",
      " 21  C19               300000 non-null  int64  \n",
      " 22  C20               300000 non-null  int64  \n",
      " 23  C21               300000 non-null  int64  \n",
      "dtypes: float64(1), int64(14), object(9)\n",
      "memory usage: 54.9+ MB\n"
     ]
    }
   ],
   "source": [
    "data.info()"
   ]
  },
  {
   "cell_type": "code",
   "execution_count": 16,
   "metadata": {},
   "outputs": [
    {
     "name": "stdout",
     "output_type": "stream",
     "text": [
      "site_id : ['1fbe01fe' 'fe8cc448' 'd6137915' ... '2ccb7139' '8429c256' '79e8e7f2']\n",
      "site_domain : ['f3845767' '9166c161' 'bb1ef334' ... '725a9710' '36cc435c' 'dc0f11ef']\n",
      "site_category : ['28905ebd' '0569f928' 'f028772b' '50e219e0' '3e814130' '76b2941d'\n",
      " 'f66779e6' '335d28a8' '72722551' '75fa27f6' '110ab22d' 'c0dd3be3'\n",
      " 'bcf865d9' 'a818d37a' '42a36e14' 'e787de0e' '5378d028' '9ccfa2ea'\n",
      " '70fb0e29' 'dedf689d' '8fd0aea4']\n",
      "app_id : ['ecad2386' '98fed791' '66a5f0f3' ... '6ae09b45' 'cd95919d' '99a6e802']\n",
      "app_domain : ['7801e8d9' 'd9b5648e' '2347f47a' '45a51db4' '82e27996' '5c5a694b'\n",
      " '0654b444' 'aefc06bd' '33da2e74' 'ad63ec9b' '5b9c592b' 'ae637522'\n",
      " '885c7f3f' 'b9528b13' '813f3323' 'c6824def' 'b5f3b24a' '5c620f04'\n",
      " '43cf4f06' 'f2f777fb' '18eb4e75' 'e787a6bc' '15ec7f39' 'db829551'\n",
      " 'f3ad7798' '6f7ca2ba' 'df32afa9' 'afdf1f54' '5ac0b939' 'b8d325c3'\n",
      " '3feeed1e' 'e5d5313f' '1ed56ded' '56eabb45' '713c0c91' '828da833'\n",
      " 'b2816726' '2b627705' '1ea19ec4' '88293ffa' 'c41aa5ee' '2d332391'\n",
      " 'fc41b20c' '5b3f66ff' '9acfe436' '90706f5d' '27ee373d' 'b0920d40'\n",
      " '8bb7dba9' '51174fb1' '2022d54e' 'f5a7c834' 'ef1fc174' 'd6feb1a4'\n",
      " '8d87821d' '99b4c806' 'd9f4700d' '47464e95' '6a0a3a9d' '47db8711'\n",
      " '48aec236' '15c23f8e' 'b408d42a' '73fc6786' '0b7d3d7d' '86aa8fec'\n",
      " 'fd5f0ee2' 'a5f9dc5b' '64ae80a5' 'a271c340' '4fafd4c4' 'c91cbbb4'\n",
      " 'af237497' '0e8616ad' 'b6c7e8e1' 'b1ab9955' '0eb1a401' 'b12ff13e'\n",
      " '2c1c31c6' '700adbf0' 'dcb74110' '7a9371fa' '9ecca2dd' '999f1fac']\n",
      "app_category : ['07d7df22' '0f2161f8' 'cef3e649' '8ded1f7a' 'f95efa07' '75d80bbe'\n",
      " '4ce2e9fc' 'd1327cf5' '09481d60' 'fc6fa53d' 'dc97ec06' 'a3c42688'\n",
      " '0f9a328c' '879c24eb' 'a86a3e89' '7113d72a' 'a7fd01ec' '4681bb9d'\n",
      " '8df2e842']\n",
      "device_id : ['a99f214a' 'c357dbff' 'fb23c543' ... '7d7a2f98' 'f2752942' '5c6546e4']\n",
      "device_ip : ['ddd2926e' '96809ac8' 'b3cf8def' ... '057cef39' 'fe31d577' '40695811']\n",
      "device_model : ['44956a24' '711ee120' '8a4875bd' ... 'ff6c0f58' 'f5243890' 'e07336b6']\n"
     ]
    },
    {
     "data": {
      "text/plain": [
       "[None, None, None, None, None, None, None, None, None]"
      ]
     },
     "execution_count": 16,
     "metadata": {},
     "output_type": "execute_result"
    }
   ],
   "source": [
    "object_columns = data.select_dtypes(include=['object']).columns\n",
    "[print(col_name, \":\", data[col].unique()) for col, col_name in zip(data[object_columns], object_columns)]"
   ]
  }
 ],
 "metadata": {
  "kernelspec": {
   "display_name": "venv",
   "language": "python",
   "name": "python3"
  },
  "language_info": {
   "codemirror_mode": {
    "name": "ipython",
    "version": 3
   },
   "file_extension": ".py",
   "mimetype": "text/x-python",
   "name": "python",
   "nbconvert_exporter": "python",
   "pygments_lexer": "ipython3",
   "version": "3.10.12"
  }
 },
 "nbformat": 4,
 "nbformat_minor": 2
}
